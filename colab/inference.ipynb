{
  "cells": [
    {
      "cell_type": "code",
      "source": [
        "# 개발환경(OS) : colab(Linux)"
      ],
      "metadata": {
        "id": "P0xfKRyo8HDq"
      },
      "execution_count": 1,
      "outputs": []
    },
    {
      "cell_type": "code",
      "source": [
        "# python==3.7.12\n",
        "# albumentations==1.1.0\n",
        "# numpy==1.19.5\n",
        "# pandas==1.3.5\n",
        "# cv2==4.1.2\n",
        "# sklearn==1.0.2\n",
        "# json==2.0.9\n",
        "# torch==1.10.0+cu111\n",
        "# timm==0.5.4\n",
        "# transformers==4.16.2"
      ],
      "metadata": {
        "id": "KV7utztVQ2te"
      },
      "execution_count": null,
      "outputs": []
    },
    {
      "cell_type": "code",
      "execution_count": null,
      "metadata": {
        "id": "5zvzCS3uMNta"
      },
      "outputs": [],
      "source": [
        "# import google drive\n",
        "\n",
        "from google.colab import drive\n",
        "drive.mount('/content/drive')"
      ]
    },
    {
      "cell_type": "code",
      "execution_count": null,
      "metadata": {
        "id": "B6oNvWEsOh0w"
      },
      "outputs": [],
      "source": [
        "# pakage\n",
        "\n",
        "!pip uninstall opencv-python-headless==4.5.5.62 --yes\n",
        "!pip install opencv-python-headless==4.1.2.30\n",
        "\n",
        "import pickle\n",
        "import gc\n",
        "from collections import Counter\n",
        "import numpy as np\n",
        "import pandas as pd\n",
        "import matplotlib.pyplot as plt\n",
        "import cv2\n",
        "from tqdm import tqdm\n",
        "from glob import glob\n",
        "from sklearn.utils import shuffle\n",
        "import random\n",
        "import os\n",
        "import json \n",
        "import torch\n",
        "import torch.nn as nn\n",
        "import torch.nn.functional as F\n",
        "from torch.autograd import Variable\n",
        "from torchvision import models\n",
        "from torch.utils.data import Dataset\n",
        "from sklearn.metrics import f1_score\n",
        "from sklearn.model_selection import KFold, StratifiedKFold\n",
        "from sklearn.model_selection import train_test_split\n",
        "\n",
        "!pip install timm\n",
        "!pip install -U albumentations \n",
        "\n",
        "import timm\n",
        "from albumentations.pytorch.transforms import ToTensorV2\n",
        "from albumentations import (\n",
        "    HorizontalFlip, VerticalFlip, IAAPerspective, ShiftScaleRotate, CLAHE, RandomRotate90,\n",
        "    Transpose, ShiftScaleRotate, Blur, OpticalDistortion, GridDistortion, HueSaturationValue,\n",
        "    IAAAdditiveGaussianNoise, GaussNoise, MotionBlur, MedianBlur, IAAPiecewiseAffine, RandomResizedCrop,\n",
        "    IAASharpen, IAAEmboss, RandomBrightnessContrast, Flip, OneOf, Compose, Normalize, Cutout, CoarseDropout, ShiftScaleRotate, CenterCrop, Resize\n",
        ")\n",
        "\n",
        "os.environ[\"CUDA_VISIBLE_DEVICES\"]=\"0\""
      ]
    },
    {
      "cell_type": "code",
      "execution_count": null,
      "metadata": {
        "id": "dHMBNZljMqmP"
      },
      "outputs": [],
      "source": [
        "# unzip train data\n",
        "\n",
        "!unzip \"/content/drive/MyDrive/Dacon/농업 환경 변화에 따른 작물 병해 진단 AI 경진대회/data/train.zip\"\n",
        "!unzip \"/content/drive/MyDrive/Dacon/농업 환경 변화에 따른 작물 병해 진단 AI 경진대회/data/test.zip\""
      ]
    },
    {
      "cell_type": "code",
      "execution_count": 5,
      "metadata": {
        "id": "7uG8HgZwL4Wl"
      },
      "outputs": [],
      "source": [
        "# get sequence feature information\n",
        "\n",
        "csv_feature_dict = {'내부 습도 1 최고': [25.9, 100.0],\n",
        "                    '내부 습도 1 최저': [0.0, 100.0],\n",
        "                    '내부 습도 1 평균': [23.7, 100.0],\n",
        "                    '내부 온도 1 최고': [3.4, 47.6],\n",
        "                    '내부 온도 1 최저': [3.3, 47.0],\n",
        "                    '내부 온도 1 평균': [3.4, 47.3],\n",
        "                    '내부 이슬점 최고': [0.2, 34.7],\n",
        "                    '내부 이슬점 최저': [0.0, 34.4],\n",
        "                    '내부 이슬점 평균': [0.1, 34.5]}"
      ]
    },
    {
      "cell_type": "code",
      "execution_count": 6,
      "metadata": {
        "id": "y8cT9SsD5HIS"
      },
      "outputs": [],
      "source": [
        "# label encoder, decoder \n",
        "\n",
        "train_json = sorted(glob('train/*/*.json'))\n",
        "\n",
        "labels = []\n",
        "for i in range(len(train_json)):\n",
        "    with open(train_json[i], 'r') as f:\n",
        "        sample = json.load(f)\n",
        "        crop = sample['annotations']['crop']\n",
        "        disease = sample['annotations']['disease']\n",
        "        risk = sample['annotations']['risk']\n",
        "        label=f\"{crop}_{disease}_{risk}\"\n",
        "        labels.append(label)\n",
        "\n",
        "label_encoder = sorted(np.unique(labels))\n",
        "label_encoder = {key:value for key,value in zip(label_encoder, range(len(label_encoder)))}\n",
        "label_decoder = {val:key for key, val in label_encoder.items()}"
      ]
    },
    {
      "cell_type": "code",
      "execution_count": 7,
      "metadata": {
        "id": "F6fzFlDiXZNi"
      },
      "outputs": [],
      "source": [
        "# hyper parameters\n",
        "\n",
        "opt = dict()\n",
        "\n",
        "opt['batch_size'] = 16\n",
        "opt['class_n'] = len(label_encoder)\n",
        "opt['lr'] = 2e-4\n",
        "opt['embedding_dim'] = 512\n",
        "opt['feature_n'] = len(csv_feature_dict)\n",
        "opt['max_len'] = 300\n",
        "opt['dropout_rate'] = 0.3\n",
        "opt['epoch_n'] = 25\n",
        "opt['vision_pretrain'] = True\n",
        "opt['worker_n'] = 8\n",
        "opt['folder'] ='model_weights'\n",
        "opt['bidirectional'] = True\n",
        "opt['minmax_dict'] = csv_feature_dict\n",
        "opt['label_dict'] = label_encoder\n",
        "opt['enc_name'] = 'resnext50_32x4d'\n",
        "opt['enc_dim'] = 2048\n",
        "opt['dec_dim'] = 1024\n",
        "opt['img_size1'] = 384\n",
        "opt['img_size2'] = 384\n",
        "opt['precision'] = 'amp'\n",
        "opt['seed'] = 42\n",
        "opt['mix'] = 'cutmix'\n",
        "opt['mix_prob'] = 0.3\n",
        "opt['mean'] = [0.485, 0.456, 0.406]\n",
        "opt['std'] = [0.229, 0.224, 0.225]\n",
        "\n",
        "\n",
        "device = torch.device(\"cuda:0\")"
      ]
    },
    {
      "cell_type": "code",
      "execution_count": 8,
      "metadata": {
        "id": "NwC5Ii5fwQAz"
      },
      "outputs": [],
      "source": [
        "# fix seed\n",
        "\n",
        "def seed_everything(seed):\n",
        "    random.seed(seed)\n",
        "    os.environ['PYTHONHASHSEED'] = str(seed)\n",
        "    np.random.seed(seed)\n",
        "    torch.manual_seed(seed)\n",
        "    torch.cuda.manual_seed(seed)\n",
        "    torch.backends.cudnn.deterministic = True\n",
        "    torch.backends.cudnn.benchmark = True\n",
        "\n",
        "seed_everything(opt['seed'])"
      ]
    },
    {
      "cell_type": "code",
      "execution_count": 9,
      "metadata": {
        "id": "88ophtlaV_7g"
      },
      "outputs": [],
      "source": [
        "# get data\n",
        "\n",
        "test = sorted(glob('test/*'))"
      ]
    },
    {
      "cell_type": "code",
      "execution_count": 10,
      "metadata": {
        "id": "y8qmkUoRL4Wt"
      },
      "outputs": [],
      "source": [
        "# model\n",
        "\n",
        "class Encoder(nn.Module):\n",
        "    def __init__(self, opt):\n",
        "        super(Encoder, self).__init__()\n",
        "        self.model = timm.create_model(model_name=opt['enc_name'], \n",
        "                                       pretrained=opt['vision_pretrain'], \n",
        "                                       num_classes=0)\n",
        "    \n",
        "    def forward(self, inputs):\n",
        "        output = self.model(inputs)\n",
        "        return output\n",
        "\n",
        "\n",
        "class Decoder(nn.Module):\n",
        "    def __init__(self, opt):\n",
        "        super(Decoder, self).__init__()\n",
        "        self.decoder = nn.GRU(opt['feature_n'], opt['embedding_dim'], bidirectional = opt['bidirectional'])\n",
        "        self.dense = nn.Linear(2*opt['max_len']*opt['embedding_dim'], opt['dec_dim'])\n",
        "        \n",
        "        self.f1 = nn.Linear(opt['enc_dim']+opt['dec_dim'], opt['enc_dim']+opt['dec_dim'])\n",
        "        self.out = nn.Linear(opt['enc_dim']+opt['dec_dim'], opt['class_n'])\n",
        "        self.dropout = nn.Dropout(opt['dropout_rate'])\n",
        "        self.relu = nn.ReLU()\n",
        "\n",
        "    def init_weight(self):\n",
        "        torch.nn.init.xavier_uniform_(self.f1.weight)  \n",
        "        torch.nn.init.xavier_uniform_(self.dense.weight)  \n",
        "        torch.nn.init.xavier_uniform_(self.out.weight)  \n",
        "\n",
        "\n",
        "    def forward(self, enc_out, dec_inp):\n",
        "        dec_out, _ = self.decoder(dec_inp)\n",
        "        dec_out = self.dense(dec_out.view(dec_out.size(0), -1))\n",
        "\n",
        "        concat = torch.cat([enc_out, dec_out], dim=1) \n",
        "        concat = self.f1(self.relu(concat))\n",
        "        concat = self.dropout(self.relu(concat))\n",
        "        output = self.out(concat)\n",
        "        return output\n",
        "\n",
        "\n",
        "class CustomModel(nn.Module):\n",
        "    def __init__(self, opt):\n",
        "        super(CustomModel, self).__init__()\n",
        "        self.encoder = Encoder(opt)\n",
        "        self.decoder = Decoder(opt)\n",
        "        self.to(device)\n",
        "        \n",
        "    def forward(self, img, seq):\n",
        "        enc_out = self.encoder(img)\n",
        "        output = self.decoder(enc_out, seq)\n",
        "        \n",
        "        return output"
      ]
    },
    {
      "cell_type": "code",
      "execution_count": null,
      "metadata": {
        "id": "C6cZ1kGRG87n"
      },
      "outputs": [],
      "source": [
        "# get model weights\n",
        "\n",
        "custom_model = CustomModel(opt)\n",
        "\n",
        "model1_path = glob(opt['folder'] + '/fold1/*.bin')[-1]\n",
        "model2_path = glob(opt['folder'] + '/fold2/*.bin')[-1]\n",
        "model3_path = glob(opt['folder'] + '/fold3/*.bin')[-1]\n",
        "model4_path = glob(opt['folder'] + '/fold4/*.bin')[-1]\n",
        "model5_path = glob(opt['folder'] + '/fold5/*.bin')[-1]\n",
        "\n",
        "# fold1 model\n",
        "model1 = CustomModel(opt)\n",
        "model1.load_state_dict(torch.load(model1_path, map_location='cpu'))\n",
        "model1.to(device)\n",
        "model1.eval()\n",
        "\n",
        "# fold2 model\n",
        "model2 = CustomModel(opt)\n",
        "model2.load_state_dict(torch.load(model2_path, map_location='cpu'))\n",
        "model2.to(device)\n",
        "model2.eval()\n",
        "\n",
        "# fold3 model\n",
        "model3 = CustomModel(opt)\n",
        "model3.load_state_dict(torch.load(model3_path, map_location='cpu'))\n",
        "model3.to(device)\n",
        "model3.eval()\n",
        "\n",
        "# fold4 model\n",
        "model4 = CustomModel(opt)\n",
        "model4.load_state_dict(torch.load(model4_path, map_location='cpu'))\n",
        "model4.to(device)\n",
        "model4.eval()\n",
        "\n",
        "# fold5 model\n",
        "model5 = CustomModel(opt)\n",
        "model5.load_state_dict(torch.load(model5_path, map_location='cpu'))\n",
        "model5.to(device)\n",
        "model5.eval()\n",
        "\n",
        "'model weight is loaded'"
      ]
    },
    {
      "cell_type": "code",
      "execution_count": 12,
      "metadata": {
        "id": "IVCxxTk6MQlI"
      },
      "outputs": [],
      "source": [
        "# inference dataset\n",
        "\n",
        "def valTransform():\n",
        "  return Compose([\n",
        "                  Resize(opt['img_size1'], opt['img_size2']),\n",
        "                  Normalize(mean=opt['mean'], std=opt['std'], max_pixel_value=255.0, p=1.0),\n",
        "                  ToTensorV2(p=1.0),\n",
        "              ], p=1.)\n",
        "  \n",
        "class InferenceDataset(Dataset):\n",
        "    def __init__(self, opt, files, mode):\n",
        "        self.files = files\n",
        "        self.mode = mode\n",
        "        self.csv_check = [0]*len(self.files)\n",
        "        self.seq = [None]*len(self.files)\n",
        "        self.minmax_dict = opt['minmax_dict']\n",
        "        self.max_len = opt['max_len']\n",
        "        self.label_encoder = opt['label_dict']\n",
        "\n",
        "    def __len__(self):\n",
        "        return len(self.files)\n",
        "    \n",
        "    def __getitem__(self, i):\n",
        "        file = self.files[i]\n",
        "        file_name = file.split('/')[-1]\n",
        "        \n",
        "        if self.csv_check[i] == 0:\n",
        "            csv_path = f'{file}/{file_name}.csv'\n",
        "            df = pd.read_csv(csv_path)\n",
        "            try:\n",
        "                estiTime1, estiTime2 = df.iloc[0]['측정시각'], df.iloc[1]['측정시각']\n",
        "            except:\n",
        "                estiTime1, estiTime2 = 0, 1\n",
        "\n",
        "            df = df[self.minmax_dict.keys()]\n",
        "            df = df.replace('-', 0)\n",
        "            \n",
        "            if estiTime1==estiTime2 and len(df)>400:\n",
        "                df = df[0::2].reset_index(drop=True)\n",
        "                \n",
        "            \n",
        "            # minmax-scaling\n",
        "            for col in df.columns:\n",
        "                df[col] = df[col].astype(float) - self.minmax_dict[col][0]\n",
        "                df[col] = df[col] / (self.minmax_dict[col][1]-self.minmax_dict[col][0])\n",
        "\n",
        "            # zero-padding\n",
        "            pad = np.zeros((self.max_len, len(df.columns)))\n",
        "            length = min(self.max_len, len(df))\n",
        "            pad[-length:] = df.to_numpy()[-length:]\n",
        "\n",
        "            # transpose-to-sequential-data\n",
        "            seq = torch.tensor(pad, dtype=torch.float32)\n",
        "            self.seq[i] = seq\n",
        "            self.csv_check[i] = 1\n",
        "        else:\n",
        "            seq = self.seq[i]\n",
        "        \n",
        "        image_path = f'{file}/{file_name}.jpg'\n",
        "        img = cv2.imread(image_path)\n",
        "        img = cv2.cvtColor(img, cv2.COLOR_BGR2RGB).astype(np.uint8)\n",
        "        img = valTransform()(image=img)['image'] \n",
        "\n",
        "        if self.mode == 'val':\n",
        "            json_path = f'{file}/{file_name}.json'\n",
        "            with open(json_path, 'r') as f:\n",
        "                json_file = json.load(f)\n",
        "            \n",
        "            crop = json_file['annotations']['crop']\n",
        "            disease = json_file['annotations']['disease']\n",
        "            risk = json_file['annotations']['risk']\n",
        "            label = torch.tensor(self.label_encoder[f'{crop}_{disease}_{risk}'], dtype=torch.long)\n",
        "            \n",
        "            return img, seq, label\n",
        "        else:\n",
        "            return img, seq"
      ]
    },
    {
      "cell_type": "code",
      "execution_count": 13,
      "metadata": {
        "id": "Z0oKLtLSL4Wz"
      },
      "outputs": [],
      "source": [
        "# predict function\n",
        "\n",
        "def predict(models, loader, mode):\n",
        "    model1, model2, model3, model4, model5 = models\n",
        "\n",
        "    preds = []\n",
        "    for bi, data in enumerate(tqdm(loader)):\n",
        "        data = [x.to(device) for x in data]\n",
        "        if mode=='val':\n",
        "            img, seq, label = data\n",
        "        else:\n",
        "            img, seq = data\n",
        "        output1 = nn.Softmax(dim=-1)(model1(img, seq))\n",
        "        output2 = nn.Softmax(dim=-1)(model2(img, seq))\n",
        "        output3 = nn.Softmax(dim=-1)(model3(img, seq))\n",
        "        output4 = nn.Softmax(dim=-1)(model4(img, seq))\n",
        "        output5 = nn.Softmax(dim=-1)(model5(img, seq))\n",
        "\n",
        "        output = output1 + output2 + output3 + output4 + output5\n",
        "        pred = torch.argmax(output, dim=1).cpu().tolist()\n",
        "        preds.extend(pred)\n",
        "    return preds"
      ]
    },
    {
      "cell_type": "code",
      "source": [
        "# get test preds\n",
        "\n",
        "models = [model1, model2, model3, model4, model5]\n",
        "\n",
        "test_dataset = InferenceDataset(opt, test, mode='test')\n",
        "test_dataloader = torch.utils.data.DataLoader(test_dataset, batch_size=2*opt['batch_size'], num_workers=opt['worker_n'], shuffle=False)\n",
        "\n",
        "with torch.no_grad():\n",
        "    preds = predict(models, test_dataloader, mode='test')"
      ],
      "metadata": {
        "id": "SFCEATXGG0sV"
      },
      "execution_count": null,
      "outputs": []
    },
    {
      "cell_type": "code",
      "source": [
        "preds = np.array([label_decoder[int(x)] for x in preds])"
      ],
      "metadata": {
        "id": "lmeBDIOpjLG6"
      },
      "execution_count": null,
      "outputs": []
    },
    {
      "cell_type": "code",
      "execution_count": 20,
      "metadata": {
        "id": "lZ7iPhv0L4W0"
      },
      "outputs": [],
      "source": [
        "submission = pd.read_csv('/content/drive/MyDrive/Dacon/농업 환경 변화에 따른 작물 병해 진단 AI 경진대회/data/sample_submission.csv')\n",
        "submission['label'] = preds"
      ]
    },
    {
      "cell_type": "code",
      "execution_count": 19,
      "metadata": {
        "id": "0z-ik9-AmBAn"
      },
      "outputs": [],
      "source": [
        "submission.to_csv('cnn2rnn(resnext-5fold-ensemble)_submission.csv', index=False)"
      ]
    }
  ],
  "metadata": {
    "accelerator": "GPU",
    "colab": {
      "background_execution": "on",
      "collapsed_sections": [],
      "machine_shape": "hm",
      "name": "dacon-lg-code 추론 코드",
      "provenance": []
    },
    "interpreter": {
      "hash": "8207dccf39e710c758db0a3115e8b6364f9af698460a2f758c1d8836f75fc2ad"
    },
    "kernelspec": {
      "display_name": "eunil_py38",
      "language": "python",
      "name": "python3"
    },
    "language_info": {
      "codemirror_mode": {
        "name": "ipython",
        "version": 3
      },
      "file_extension": ".py",
      "mimetype": "text/x-python",
      "name": "python",
      "nbconvert_exporter": "python",
      "pygments_lexer": "ipython3",
      "version": "3.8.11"
    }
  },
  "nbformat": 4,
  "nbformat_minor": 0
}
